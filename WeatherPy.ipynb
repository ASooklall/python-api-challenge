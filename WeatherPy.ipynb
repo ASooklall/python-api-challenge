{
 "cells": [
  {
   "cell_type": "markdown",
   "metadata": {},
   "source": [
    "# Python API Homework - What's the Weather Like?\n",
    "\n",
    "## Background\n",
    "\n",
    "Whether financial, political, or social -- data's true power lies in its ability to answer questions definitively. So let's take what you've learned about Python requests, APIs, and JSON traversals to answer a fundamental question: \"What's the weather like as we approach the equator?\"\n",
    "\n",
    "Now, we know what you may be thinking: _\"Duh. It gets hotter...\"_\n",
    "\n",
    "But, if pressed, how would you **prove** it?\n",
    "\n",
    "![Equator](Images/equatorsign.png)\n",
    "\n",
    "### Before You Begin\n",
    "\n",
    "1. Create a new repository for this project called `python-api-challenge`. **Do not add this homework to an existing repository**.\n",
    "\n",
    "2. Clone the new repository to your computer.\n",
    "\n",
    "3. Inside your local git repository, create a directory for both of the  Python Challenges. Use folder names corresponding to the challenges: **WeatherPy**.\n",
    "\n",
    "4. Inside the folder that you just created, add new files called `WeatherPy.ipynb` and `VacationPy.ipynb`. These will be the main scripts to run for each analysis.\n",
    "\n",
    "5. Push the above changes to GitHub.\n",
    "\n",
    "## Part I - WeatherPy\n",
    "\n",
    "In this example, you'll be creating a Python script to visualize the weather of 500+ cities across the world of varying distance from the equator. To accomplish this, you'll be utilizing a [simple Python library](https://pypi.python.org/pypi/citipy), the [OpenWeatherMap API](https://openweathermap.org/api), and a little common sense to create a representative model of weather across world cities.\n",
    "\n",
    "Your first objective is to build a series of scatter plots to showcase the following relationships:\n",
    "\n",
    "* Temperature (F) vs. Latitude\n",
    "* Humidity (%) vs. Latitude\n",
    "* Cloudiness (%) vs. Latitude\n",
    "* Wind Speed (mph) vs. Latitude\n",
    "\n",
    "After each plot add a sentence or too explaining what the code is and analyzing.\n",
    "\n",
    "Your next objective is to run linear regression on each relationship, only this time separating them into Northern Hemisphere (greater than or equal to 0 degrees latitude) and Southern Hemisphere (less than 0 degrees latitude):\n",
    "\n",
    "* Northern Hemisphere - Temperature (F) vs. Latitude\n",
    "* Southern Hemisphere - Temperature (F) vs. Latitude\n",
    "* Northern Hemisphere - Humidity (%) vs. Latitude\n",
    "* Southern Hemisphere - Humidity (%) vs. Latitude\n",
    "* Northern Hemisphere - Cloudiness (%) vs. Latitude\n",
    "* Southern Hemisphere - Cloudiness (%) vs. Latitude\n",
    "* Northern Hemisphere - Wind Speed (mph) vs. Latitude\n",
    "* Southern Hemisphere - Wind Speed (mph) vs. Latitude\n",
    "\n",
    "After each pair of plots explain what the linear regression is analyzing, any relationships you notice and any other analysis you may have.\n",
    "\n",
    "Your final notebook must:\n",
    "\n",
    "* Randomly select **at least** 500 unique (non-repeat) cities based on latitude and longitude.\n",
    "* Perform a weather check on each of the cities using a series of successive API calls.\n",
    "* Include a print log of each city as it's being processed with the city number and city name.\n",
    "* Save a CSV of all retrieved data and a PNG image for each scatter plot."
   ]
  },
  {
   "cell_type": "code",
   "execution_count": 1,
   "metadata": {},
   "outputs": [
    {
     "name": "stdout",
     "output_type": "stream",
     "text": [
      "Requirement already satisfied: citipy in c:\\users\\xerod\\anaconda3\\lib\\site-packages (0.0.5)\n",
      "Requirement already satisfied: kdtree>=0.12 in c:\\users\\xerod\\anaconda3\\lib\\site-packages (from citipy) (0.16)\n",
      "Note: you may need to restart the kernel to use updated packages.\n"
     ]
    }
   ],
   "source": [
    "pip install citipy"
   ]
  },
  {
   "cell_type": "code",
   "execution_count": 39,
   "metadata": {},
   "outputs": [],
   "source": [
    "# Dependencies and Setup\n",
    "import matplotlib.pyplot as plt\n",
    "import pandas as pd\n",
    "import numpy as np\n",
    "import requests\n",
    "import time\n",
    "from scipy.stats import linregress\n",
    "from pprint import pprint\n",
    "\n",
    "# Import API key\n",
    "from config import weather_api_key\n",
    "\n",
    "# Incorporated citipy to determine city based on latitude and longitude\n",
    "from citipy import citipy\n",
    "\n",
    "# Output File (CSV)\n",
    "output_data_file = \"output_data/cities.csv\"\n",
    "\n",
    "# Range of latitudes and longitudes\n",
    "lat_range = (-90, 90)\n",
    "lng_range = (-180, 180)"
   ]
  },
  {
   "cell_type": "code",
   "execution_count": 144,
   "metadata": {},
   "outputs": [
    {
     "data": {
      "text/plain": [
       "596"
      ]
     },
     "execution_count": 144,
     "metadata": {},
     "output_type": "execute_result"
    }
   ],
   "source": [
    "# List for holding lat_lngs and cities\n",
    "lat_lngs = []\n",
    "cities = []\n",
    "\n",
    "# Create a set of random lat and lng combinations\n",
    "lats = np.random.uniform(low=-90.000, high=90.000, size=1500)\n",
    "lngs = np.random.uniform(low=-180.000, high=180.000, size=1500)\n",
    "lat_lngs = zip(lats, lngs)\n",
    "\n",
    "# Identify nearest city for each lat, lng combination\n",
    "for lat_lng in lat_lngs:\n",
    "    city = citipy.nearest_city(lat_lng[0], lat_lng[1]).city_name\n",
    "    \n",
    "    # If the city is unique, then add it to a our cities list\n",
    "    if city not in cities:\n",
    "        cities.append(city)\n",
    "\n",
    "# Print the city count to confirm sufficient count\n",
    "len(cities)"
   ]
  },
  {
   "cell_type": "code",
   "execution_count": 168,
   "metadata": {},
   "outputs": [
    {
     "name": "stdout",
     "output_type": "stream",
     "text": [
      "Processing Record 1: ust-nera\n",
      "Processing Record 2: hilo\n",
      "Processing Record 3: sabancuy\n",
      "Processing Record 4: beringovskiy\n",
      "Processing Record 5: tuktoyaktuk\n",
      "Processing Record 6: nanortalik\n",
      "Processing Record 7: aklavik\n",
      "Processing Record 8: vaini\n",
      "Processing Record 9: faanui\n",
      "Processing Record 10: saldanha\n",
      "Processing Record 11: kavieng\n",
      "Processing Record 12: huarmey\n",
      "Processing Record 13: sitka\n",
      "City not found. Skipping...\n",
      "Processing Record 15: rikitea\n",
      "Processing Record 16: conde\n",
      "Processing Record 17: ahipara\n",
      "Processing Record 18: kahului\n",
      "Processing Record 19: makakilo city\n",
      "Processing Record 20: chokurdakh\n",
      "Processing Record 21: cape town\n",
      "Processing Record 22: kapaa\n",
      "Processing Record 23: tasiilaq\n",
      "Processing Record 24: ushuaia\n",
      "Processing Record 25: bethel\n",
      "Processing Record 26: tongliao\n",
      "Processing Record 27: bay roberts\n",
      "Processing Record 28: thompson\n",
      "Processing Record 29: hamilton\n",
      "Processing Record 30: nikolskoye\n",
      "Processing Record 31: port elizabeth\n",
      "Processing Record 32: mahajanga\n",
      "City not found. Skipping...\n",
      "Processing Record 34: lebu\n",
      "Processing Record 35: gornopravdinsk\n",
      "Processing Record 36: iqaluit\n",
      "Processing Record 37: guerrero negro\n",
      "Processing Record 38: bambous virieux\n",
      "Processing Record 39: busselton\n",
      "Processing Record 40: pisco\n",
      "Processing Record 41: chara\n",
      "City not found. Skipping...\n",
      "Processing Record 43: dikson\n",
      "Processing Record 44: buala\n",
      "Processing Record 45: tateyama\n",
      "Processing Record 46: zhigansk\n",
      "Processing Record 47: bredasdorp\n",
      "City not found. Skipping...\n",
      "Processing Record 49: mataura\n",
      "Processing Record 50: hobart\n"
     ]
    }
   ],
   "source": [
    "#Perform API Calls\n",
    "#Perform a weather check on each city using a series of successive API calls.\n",
    "#Include a print log of each city as it's being processed (with the city number and city name).\n",
    "\n",
    "base_url = \"http://api.openweathermap.org/data/2.5/weather?\"\n",
    "query = base_url + \"appid=\" + weather_api_key + '&units=imperial' + \"&q=\" + city\n",
    "\n",
    "#list and record checker\n",
    "record = 0\n",
    "city_name = []\n",
    "cloudiness = []\n",
    "country = []\n",
    "date = []\n",
    "humidity = []\n",
    "lat = []\n",
    "lng = []\n",
    "max_temp = []\n",
    "windspeed = []\n",
    "\n",
    "\n",
    "#append lists for reach city found and print found status\n",
    "for city in cities:\n",
    "    record += 1\n",
    "    base_url = \"http://api.openweathermap.org/data/2.5/weather?\"\n",
    "    query = base_url + \"appid=\" + weather_api_key + '&units=imperial' + \"&q=\" + city\n",
    "    response = requests.get(query)\n",
    "    city_json = response.json()\n",
    "    if (str(response) == '<Response [200]>'):\n",
    "        print(f'Processing Record {record}: {city}')\n",
    "        city_name.append(city_json['name'])\n",
    "        cloudiness.append(city_json['clouds']['all'])\n",
    "        country.append(city_json['sys']['country'])\n",
    "        date.append(city_json['dt'])\n",
    "        humidity.append(city_json['main']['humidity'])\n",
    "        lat.append(city_json['coord']['lat'])\n",
    "        lng.append(city_json['coord']['lon'])\n",
    "        max_temp.append(city_json['main']['temp_max'])\n",
    "        windspeed.append(city_json['wind']['speed'])\n",
    "    else:\n",
    "        print('City not found. Skipping...')\n",
    "    # this if statement will limit the amount of cities checked, use to avoid running all 500+ cities\n",
    "    if record >= 50:\n",
    "        break\n",
    "    # sleep timer to prevent bandwidth maxing for API\n",
    "    time.sleep(1)\n",
    "\n",
    "    \n",
    "#Turn appended lists into dictionary\n",
    "weather_dict = {'City':city_name,\n",
    "                'Cloudiness':cloudiness,\n",
    "                'Country':country,\n",
    "                'Date':date,\n",
    "                'Humidity':humidity,\n",
    "                'Lat':lat,\n",
    "                'Lng':lng,\n",
    "                'Max Temp':max_temp,\n",
    "                'Wind Speed':windspeed}\n",
    "\n",
    "#Turn dictionary into dataframe\n",
    "weather_df = pd.DataFrame(weather_dict)"
   ]
  },
  {
   "cell_type": "code",
   "execution_count": 169,
   "metadata": {},
   "outputs": [
    {
     "data": {
      "text/plain": [
       "City          46\n",
       "Cloudiness    46\n",
       "Country       46\n",
       "Date          46\n",
       "Humidity      46\n",
       "Lat           46\n",
       "Lng           46\n",
       "Max Temp      46\n",
       "Wind Speed    46\n",
       "dtype: int64"
      ]
     },
     "execution_count": 169,
     "metadata": {},
     "output_type": "execute_result"
    }
   ],
   "source": [
    "# export dataframe to csv\n",
    "export_csv = weather_df.to_csv (output_data_file, index = None, header=True)\n",
    "# counts for Dataframe\n",
    "weather_df.count()"
   ]
  },
  {
   "cell_type": "code",
   "execution_count": 170,
   "metadata": {},
   "outputs": [
    {
     "data": {
      "text/html": [
       "<div>\n",
       "<style scoped>\n",
       "    .dataframe tbody tr th:only-of-type {\n",
       "        vertical-align: middle;\n",
       "    }\n",
       "\n",
       "    .dataframe tbody tr th {\n",
       "        vertical-align: top;\n",
       "    }\n",
       "\n",
       "    .dataframe thead th {\n",
       "        text-align: right;\n",
       "    }\n",
       "</style>\n",
       "<table border=\"1\" class=\"dataframe\">\n",
       "  <thead>\n",
       "    <tr style=\"text-align: right;\">\n",
       "      <th></th>\n",
       "      <th>City</th>\n",
       "      <th>Cloudiness</th>\n",
       "      <th>Country</th>\n",
       "      <th>Date</th>\n",
       "      <th>Humidity</th>\n",
       "      <th>Lat</th>\n",
       "      <th>Lng</th>\n",
       "      <th>Max Temp</th>\n",
       "      <th>Wind Speed</th>\n",
       "    </tr>\n",
       "  </thead>\n",
       "  <tbody>\n",
       "    <tr>\n",
       "      <td>0</td>\n",
       "      <td>Ust-Nera</td>\n",
       "      <td>0</td>\n",
       "      <td>RU</td>\n",
       "      <td>1569443209</td>\n",
       "      <td>81</td>\n",
       "      <td>64.57</td>\n",
       "      <td>143.24</td>\n",
       "      <td>19.02</td>\n",
       "      <td>3.58</td>\n",
       "    </tr>\n",
       "    <tr>\n",
       "      <td>1</td>\n",
       "      <td>Hilo</td>\n",
       "      <td>40</td>\n",
       "      <td>US</td>\n",
       "      <td>1569443208</td>\n",
       "      <td>58</td>\n",
       "      <td>19.71</td>\n",
       "      <td>-155.08</td>\n",
       "      <td>86.00</td>\n",
       "      <td>4.70</td>\n",
       "    </tr>\n",
       "    <tr>\n",
       "      <td>2</td>\n",
       "      <td>Sabancuy</td>\n",
       "      <td>5</td>\n",
       "      <td>MX</td>\n",
       "      <td>1569443211</td>\n",
       "      <td>77</td>\n",
       "      <td>18.97</td>\n",
       "      <td>-91.18</td>\n",
       "      <td>84.17</td>\n",
       "      <td>10.89</td>\n",
       "    </tr>\n",
       "    <tr>\n",
       "      <td>3</td>\n",
       "      <td>Beringovskiy</td>\n",
       "      <td>94</td>\n",
       "      <td>RU</td>\n",
       "      <td>1569443212</td>\n",
       "      <td>68</td>\n",
       "      <td>63.05</td>\n",
       "      <td>179.32</td>\n",
       "      <td>38.50</td>\n",
       "      <td>7.90</td>\n",
       "    </tr>\n",
       "    <tr>\n",
       "      <td>4</td>\n",
       "      <td>Tuktoyaktuk</td>\n",
       "      <td>75</td>\n",
       "      <td>CA</td>\n",
       "      <td>1569443213</td>\n",
       "      <td>86</td>\n",
       "      <td>69.44</td>\n",
       "      <td>-133.03</td>\n",
       "      <td>41.00</td>\n",
       "      <td>4.70</td>\n",
       "    </tr>\n",
       "    <tr>\n",
       "      <td>5</td>\n",
       "      <td>Nanortalik</td>\n",
       "      <td>0</td>\n",
       "      <td>GL</td>\n",
       "      <td>1569443215</td>\n",
       "      <td>84</td>\n",
       "      <td>60.14</td>\n",
       "      <td>-45.24</td>\n",
       "      <td>41.60</td>\n",
       "      <td>1.54</td>\n",
       "    </tr>\n",
       "    <tr>\n",
       "      <td>6</td>\n",
       "      <td>Aklavik</td>\n",
       "      <td>20</td>\n",
       "      <td>CA</td>\n",
       "      <td>1569443216</td>\n",
       "      <td>75</td>\n",
       "      <td>68.22</td>\n",
       "      <td>-135.01</td>\n",
       "      <td>41.00</td>\n",
       "      <td>2.24</td>\n",
       "    </tr>\n",
       "    <tr>\n",
       "      <td>7</td>\n",
       "      <td>Vaini</td>\n",
       "      <td>100</td>\n",
       "      <td>IN</td>\n",
       "      <td>1569443217</td>\n",
       "      <td>95</td>\n",
       "      <td>15.34</td>\n",
       "      <td>74.49</td>\n",
       "      <td>75.29</td>\n",
       "      <td>2.33</td>\n",
       "    </tr>\n",
       "    <tr>\n",
       "      <td>8</td>\n",
       "      <td>Faanui</td>\n",
       "      <td>59</td>\n",
       "      <td>PF</td>\n",
       "      <td>1569443218</td>\n",
       "      <td>77</td>\n",
       "      <td>-16.48</td>\n",
       "      <td>-151.75</td>\n",
       "      <td>79.09</td>\n",
       "      <td>14.61</td>\n",
       "    </tr>\n",
       "    <tr>\n",
       "      <td>9</td>\n",
       "      <td>Saldanha</td>\n",
       "      <td>100</td>\n",
       "      <td>PT</td>\n",
       "      <td>1569443220</td>\n",
       "      <td>65</td>\n",
       "      <td>41.42</td>\n",
       "      <td>-6.55</td>\n",
       "      <td>61.40</td>\n",
       "      <td>4.45</td>\n",
       "    </tr>\n",
       "  </tbody>\n",
       "</table>\n",
       "</div>"
      ],
      "text/plain": [
       "           City  Cloudiness Country        Date  Humidity    Lat     Lng  \\\n",
       "0      Ust-Nera           0      RU  1569443209        81  64.57  143.24   \n",
       "1          Hilo          40      US  1569443208        58  19.71 -155.08   \n",
       "2      Sabancuy           5      MX  1569443211        77  18.97  -91.18   \n",
       "3  Beringovskiy          94      RU  1569443212        68  63.05  179.32   \n",
       "4   Tuktoyaktuk          75      CA  1569443213        86  69.44 -133.03   \n",
       "5    Nanortalik           0      GL  1569443215        84  60.14  -45.24   \n",
       "6       Aklavik          20      CA  1569443216        75  68.22 -135.01   \n",
       "7         Vaini         100      IN  1569443217        95  15.34   74.49   \n",
       "8        Faanui          59      PF  1569443218        77 -16.48 -151.75   \n",
       "9      Saldanha         100      PT  1569443220        65  41.42   -6.55   \n",
       "\n",
       "   Max Temp  Wind Speed  \n",
       "0     19.02        3.58  \n",
       "1     86.00        4.70  \n",
       "2     84.17       10.89  \n",
       "3     38.50        7.90  \n",
       "4     41.00        4.70  \n",
       "5     41.60        1.54  \n",
       "6     41.00        2.24  \n",
       "7     75.29        2.33  \n",
       "8     79.09       14.61  \n",
       "9     61.40        4.45  "
      ]
     },
     "execution_count": 170,
     "metadata": {},
     "output_type": "execute_result"
    }
   ],
   "source": [
    "# display Dataframe head\n",
    "weather_df.head(10)"
   ]
  },
  {
   "cell_type": "markdown",
   "metadata": {},
   "source": [
    "## Data Scatterplots"
   ]
  },
  {
   "cell_type": "markdown",
   "metadata": {},
   "source": [
    "#### Latitude vs. Temperature Plot"
   ]
  },
  {
   "cell_type": "code",
   "execution_count": 187,
   "metadata": {},
   "outputs": [
    {
     "data": {
      "image/png": "[encoded data removed]",
      "text/plain": [
       "<Figure size 432x288 with 1 Axes>"
      ]
     },
     "metadata": {
      "needs_background": "light"
     },
     "output_type": "display_data"
    },
    {
     "data": {
      "text/plain": [
       "<Figure size 720x720 with 0 Axes>"
      ]
     },
     "metadata": {},
     "output_type": "display_data"
    }
   ],
   "source": [
    "lat_temp_plot = plt.scatter(weather_df['Lat'],weather_df['Max Temp'],marker='o',edgecolors='black')\n",
    "plt.grid()\n",
    "plt.title('City Latitude vs. Max Temperature',size=18)\n",
    "plt.xlabel('Latitude',size=15)\n",
    "plt.ylabel('Max Temperature (F)',size=15)\n",
    "plt.figure(figsize=(10, 10))\n",
    "plt.show()"
   ]
  },
  {
   "cell_type": "markdown",
   "metadata": {},
   "source": [
    "This plot shows the relationship between latittude and temperature in the selected cities. \n",
    "\n",
    "A trend is shown where the closer a city is to the equator, the higher the max temperature. As you move away from the equator, the max temperature gradually decreases with cities above the equator showing a marginally larger decreases."
   ]
  },
  {
   "cell_type": "markdown",
   "metadata": {},
   "source": [
    "#### Latitude vs. Humidity Plot"
   ]
  },
  {
   "cell_type": "code",
   "execution_count": 188,
   "metadata": {},
   "outputs": [
    {
     "data": {
      "image/png": "[encoded data removed]",
      "text/plain": [
       "<Figure size 432x288 with 1 Axes>"
      ]
     },
     "metadata": {
      "needs_background": "light"
     },
     "output_type": "display_data"
    },
    {
     "data": {
      "text/plain": [
       "<Figure size 720x720 with 0 Axes>"
      ]
     },
     "metadata": {},
     "output_type": "display_data"
    }
   ],
   "source": [
    "lat_hum_plot = plt.scatter(weather_df['Lat'],weather_df['Humidity'],marker='o',edgecolors='black')\n",
    "plt.grid()\n",
    "plt.title('City Latitude vs. Max Temperature',size=18)\n",
    "plt.xlabel('Latitude',size=15)\n",
    "plt.ylabel('Humidity (%)',size=15)\n",
    "plt.figure(figsize=(10, 10))\n",
    "plt.show()"
   ]
  },
  {
   "cell_type": "markdown",
   "metadata": {},
   "source": [
    "This plot shows the relationship between latittude and humidity in the selected cities. \n",
    "\n",
    "Locations south of the equator seem to have a higher average humidity, while it is more varied above the equator."
   ]
  },
  {
   "cell_type": "markdown",
   "metadata": {},
   "source": [
    "#### Latitude vs. Cloudiness Plot"
   ]
  },
  {
   "cell_type": "code",
   "execution_count": 191,
   "metadata": {},
   "outputs": [
    {
     "data": {
      "image/png": "[encoded data removed]",
      "text/plain": [
       "<Figure size 432x288 with 1 Axes>"
      ]
     },
     "metadata": {
      "needs_background": "light"
     },
     "output_type": "display_data"
    },
    {
     "data": {
      "text/plain": [
       "<Figure size 720x720 with 0 Axes>"
      ]
     },
     "metadata": {},
     "output_type": "display_data"
    }
   ],
   "source": [
    "lat_cloud_plot = plt.scatter(weather_df['Lat'],weather_df['Cloudiness'],marker='o',edgecolors='black')\n",
    "plt.grid()\n",
    "plt.title('City Latitude vs. Cloudiness',size=18)\n",
    "plt.xlabel('Latitude',size=15)\n",
    "plt.ylabel('Cloudiness',size=15)\n",
    "plt.figure(figsize=(10, 10))\n",
    "plt.show()"
   ]
  },
  {
   "cell_type": "markdown",
   "metadata": {},
   "source": [
    "This plot shows the relationship between latittude and cloudiness in the selected cities. \n",
    "\n",
    "Latitude does not seem to greatly affect cloudiness."
   ]
  },
  {
   "cell_type": "markdown",
   "metadata": {},
   "source": [
    "#### Latitude vs. Wind Speed Plot"
   ]
  },
  {
   "cell_type": "code",
   "execution_count": 190,
   "metadata": {},
   "outputs": [
    {
     "data": {
      "image/png": "[encoded data removed]",
      "text/plain": [
       "<Figure size 432x288 with 1 Axes>"
      ]
     },
     "metadata": {
      "needs_background": "light"
     },
     "output_type": "display_data"
    },
    {
     "data": {
      "text/plain": [
       "<Figure size 720x720 with 0 Axes>"
      ]
     },
     "metadata": {},
     "output_type": "display_data"
    }
   ],
   "source": [
    "lat_ws_plot = plt.scatter(weather_df['Lat'],weather_df['Wind Speed'],marker='o',edgecolors='black')\n",
    "plt.grid()\n",
    "plt.title('City Latitude vs. Wind Speed')\n",
    "plt.xlabel('Latitude',size=15)\n",
    "plt.ylabel('Wind Speed (mph)',size=15)\n",
    "plt.figure(figsize=(10, 10))\n",
    "plt.show()"
   ]
  },
  {
   "cell_type": "markdown",
   "metadata": {},
   "source": [
    "This plot shows the relationship between latittude and wind speed in the selected cities. \n",
    "\n",
    "As shown, as you move farther from the equator (latittude = 0) there is an average increase in wind speed. "
   ]
  },
  {
   "cell_type": "markdown",
   "metadata": {},
   "source": [
    "## Linear Regression"
   ]
  },
  {
   "cell_type": "code",
   "execution_count": null,
   "metadata": {},
   "outputs": [],
   "source": [
    "# OPTIONAL: Create a function to create Linear Regression plots\n"
   ]
  },
  {
   "cell_type": "code",
   "execution_count": 197,
   "metadata": {},
   "outputs": [],
   "source": [
    "# Create Northern and Southern Hemisphere DataFrames\n",
    "\n",
    "#Northern Hemisphere (Lat > 0)\n",
    "weather_df_north = weather_df[weather_df['Lat'] >= 0]\n",
    "\n",
    "#Southern Hemisphere (Lat < 0)\n",
    "weather_df_south = weather_df[weather_df['Lat'] < 0]\n",
    "\n"
   ]
  },
  {
   "cell_type": "markdown",
   "metadata": {},
   "source": [
    "####  Northern Hemisphere - Max Temp vs. Latitude Linear Regression"
   ]
  },
  {
   "cell_type": "code",
   "execution_count": null,
   "metadata": {},
   "outputs": [],
   "source": []
  },
  {
   "cell_type": "markdown",
   "metadata": {},
   "source": [
    "####  Southern Hemisphere - Max Temp vs. Latitude Linear Regression"
   ]
  },
  {
   "cell_type": "code",
   "execution_count": null,
   "metadata": {},
   "outputs": [],
   "source": []
  },
  {
   "cell_type": "markdown",
   "metadata": {},
   "source": [
    "### Max Temp vs. Latitutde Linear Regression Comparison\n",
    "* 1\n",
    "* 2\n",
    "* 3"
   ]
  },
  {
   "cell_type": "markdown",
   "metadata": {},
   "source": [
    "####  Northern Hemisphere - Humidity (%) vs. Latitude Linear Regression"
   ]
  },
  {
   "cell_type": "code",
   "execution_count": null,
   "metadata": {},
   "outputs": [],
   "source": []
  },
  {
   "cell_type": "markdown",
   "metadata": {},
   "source": [
    "####  Southern Hemisphere - Humidity (%) vs. Latitude Linear Regression\n"
   ]
  },
  {
   "cell_type": "code",
   "execution_count": null,
   "metadata": {},
   "outputs": [],
   "source": []
  },
  {
   "cell_type": "markdown",
   "metadata": {},
   "source": [
    "### Humidity vs. Latitutde Linear Regression Comparison\n",
    "* 1\n",
    "* 2\n",
    "* 3"
   ]
  },
  {
   "cell_type": "markdown",
   "metadata": {},
   "source": [
    "####  Northern Hemisphere - Cloudiness (%) vs. Latitude Linear Regression"
   ]
  },
  {
   "cell_type": "code",
   "execution_count": null,
   "metadata": {},
   "outputs": [],
   "source": []
  },
  {
   "cell_type": "markdown",
   "metadata": {},
   "source": [
    "####  Southern Hemisphere - Cloudiness (%) vs. Latitude Linear Regression"
   ]
  },
  {
   "cell_type": "code",
   "execution_count": null,
   "metadata": {},
   "outputs": [],
   "source": []
  },
  {
   "cell_type": "markdown",
   "metadata": {},
   "source": [
    "### Cloudiness vs. Latitutde Linear Regression Comparison\n",
    "* 1\n",
    "* 2\n",
    "* 3"
   ]
  },
  {
   "cell_type": "markdown",
   "metadata": {},
   "source": [
    "####  Northern Hemisphere - Wind Speed (mph) vs. Latitude Linear Regression\n"
   ]
  },
  {
   "cell_type": "code",
   "execution_count": null,
   "metadata": {},
   "outputs": [],
   "source": []
  },
  {
   "cell_type": "markdown",
   "metadata": {},
   "source": [
    "####  Southern Hemisphere - Wind Speed (mph) vs. Latitude Linear Regression"
   ]
  },
  {
   "cell_type": "code",
   "execution_count": null,
   "metadata": {},
   "outputs": [],
   "source": []
  },
  {
   "cell_type": "markdown",
   "metadata": {},
   "source": [
    "### Wind Speed (mph) vs. Latitutde Linear Regression Comparison\n",
    "* 1\n",
    "* 2\n",
    "* 3"
   ]
  },
  {
   "cell_type": "code",
   "execution_count": null,
   "metadata": {},
   "outputs": [],
   "source": []
  }
 ],
 "metadata": {
  "kernelspec": {
   "display_name": "Python 3",
   "language": "python",
   "name": "python3"
  },
  "language_info": {
   "codemirror_mode": {
    "name": "ipython",
    "version": 3
   },
   "file_extension": ".py",
   "mimetype": "text/x-python",
   "name": "python",
   "nbconvert_exporter": "python",
   "pygments_lexer": "ipython3",
   "version": "3.7.3"
  }
 },
 "nbformat": 4,
 "nbformat_minor": 2
}
